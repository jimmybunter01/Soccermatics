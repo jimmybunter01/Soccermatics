{
 "cells": [
  {
   "cell_type": "markdown",
   "metadata": {},
   "source": [
    "# Action-Based Expected Threat"
   ]
  },
  {
   "cell_type": "markdown",
   "metadata": {},
   "source": [
    "# Setup"
   ]
  },
  {
   "cell_type": "code",
   "execution_count": null,
   "metadata": {},
   "outputs": [],
   "source": [
    "import json\n",
    "import os\n",
    "import numpy as np\n",
    "import pandas as pd\n",
    "import matplotlib.pyplot as plt\n",
    "import xgboost as xgb\n",
    "from mplsoccer import Pitch\n",
    "from itertools import combinations_with_replacement\n",
    "from sklearn.linear_model import LinearRegression\n",
    "from sklearn.model_selection import train_test_split, cross_val_score"
   ]
  },
  {
   "cell_type": "code",
   "execution_count": null,
   "metadata": {},
   "outputs": [],
   "source": [
    "notebook_directory = os.getcwd()\n",
    "course_directory = \"\"\n",
    "\n",
    "if os.name == \"posix\": \n",
    "    course_directory = notebook_directory.rsplit(\"/Notebooks\")[0]\n",
    "else:\n",
    "    course_directory = notebook_directory.rsplit(\"\\\\Notebooks\")[0]\n",
    "os.chdir(course_directory)"
   ]
  },
  {
   "cell_type": "markdown",
   "metadata": {},
   "source": [
    "# Data"
   ]
  },
  {
   "cell_type": "code",
   "execution_count": null,
   "metadata": {},
   "outputs": [],
   "source": [
    "df = pd.read_json(\"data/wyscout/poseesion_chains.json\")\n",
    "df.reset_index(drop=True, inplace=True)\n",
    "df"
   ]
  },
  {
   "cell_type": "code",
   "execution_count": null,
   "metadata": {},
   "outputs": [],
   "source": [
    "df[df[\"possession_chain\"] == 4]"
   ]
  },
  {
   "cell_type": "markdown",
   "metadata": {},
   "source": [
    "# Prep the variables for models\n",
    "- Models will be a non-linear combo of the start & end x coordinates & c (distance from the middle).\n",
    "- The non-linear transformations of these are got via sampling with replacement for 1-3 combinations of the variables."
   ]
  },
  {
   "cell_type": "code",
   "execution_count": null,
   "metadata": {},
   "outputs": [],
   "source": [
    "var = [\"x0\", \"x1\", \"c0\", \"c1\"]\n",
    "\n",
    "inputs = []\n",
    "inputs.extend(combinations_with_replacement(var, 1))\n",
    "inputs.extend(combinations_with_replacement(var, 2))\n",
    "inputs.extend(combinations_with_replacement(var, 3))\n",
    "\n",
    "for i in inputs:\n",
    "    if len(i) > 1:\n",
    "        column = \"\"\n",
    "        x = 1\n",
    "        for c in i:\n",
    "            column += c\n",
    "            x = x*df[c]\n",
    "        df[column] = x\n",
    "        var.append(column)\n",
    "\n",
    "df"
   ]
  },
  {
   "cell_type": "code",
   "execution_count": null,
   "metadata": {},
   "outputs": [],
   "source": [
    "df[df[\"possession_chain\"] == 4][\"shot_end\"]"
   ]
  },
  {
   "cell_type": "markdown",
   "metadata": {},
   "source": [
    "# Calculate action based xT for passes\n",
    "1. Predict the outcome of a shot using XGBoost."
   ]
  },
  {
   "cell_type": "code",
   "execution_count": null,
   "metadata": {},
   "outputs": [],
   "source": [
    "passes = df.loc[df[\"eventName\"] == \"Pass\"].copy()\n",
    "\n",
    "X = passes[var].values\n",
    "y = passes[\"shot_end\"].values\n",
    "\n",
    "X_train, X_test, y_train, y_test = train_test_split(X, y, test_size=0.1, random_state=123, stratify=y)\n",
    "\n",
    "xgb_classifier = xgb.XGBClassifier(n_estimators=100,  max_depth=4,  min_child_weight=10, random_state=123)\n",
    "scores = cross_val_score(estimator=xgb_classifier, X=X_train, y=y_train, cv=10, n_jobs=-1)\n",
    "xgb_classifier.fit(X_train, y_train)\n",
    "\n",
    "print(np.mean(scores), np.std(scores))\n",
    "print(xgb_classifier.score(X_train, y_train))"
   ]
  },
  {
   "cell_type": "code",
   "execution_count": null,
   "metadata": {},
   "outputs": [],
   "source": [
    "y_pred_proba = xgb_classifier.predict_proba(X_test)\n",
    "print(xgb_classifier.score(X_test, y_test))"
   ]
  },
  {
   "cell_type": "code",
   "execution_count": null,
   "metadata": {},
   "outputs": [],
   "source": [
    "y_pred_proba = xgb_classifier.predict_proba(X)[::,1]\n",
    "\n",
    "passes[\"shot_prob\"] = y_pred_proba\n",
    "shot_ended  = passes.loc[passes[\"shot_end\"] == 1]\n",
    "\n",
    "X2 = shot_ended[var].values\n",
    "y2 = shot_ended[\"xG\"].values\n",
    "\n",
    "lr = LinearRegression()\n",
    "lr.fit(X2, y2)\n",
    "y_pred = lr.predict(X)\n",
    "\n",
    "passes[\"xG_pred\"] = y_pred\n",
    "passes[\"xT\"] = passes[\"xG_pred\"] * passes[\"shot_prob\"]\n",
    "passes[[\"xG_pred\", \"shot_prob\", \"xT\"]].head(5)"
   ]
  },
  {
   "cell_type": "markdown",
   "metadata": {},
   "source": [
    "# Plot Pass Values"
   ]
  },
  {
   "cell_type": "code",
   "execution_count": null,
   "metadata": {},
   "outputs": [],
   "source": [
    "example_chain = df.loc[df[\"possession_chain\"] == 4]\n",
    "passes_in = passes.loc[df[\"possession_chain\"] == 4]\n",
    "max_value = passes_in[\"xT\"].max()\n",
    "not_passes = example_chain.loc[example_chain[\"eventName\"] != \"Pass\"].iloc[:-1]\n",
    "shot = example_chain.iloc[-1]\n",
    "\n",
    "pitch = Pitch(line_color='black',pitch_type='custom', pitch_length=105, pitch_width=68, line_zorder = 2)\n",
    "fig, ax = pitch.grid(grid_height=0.9, title_height=0.06, axis=False, endnote_height=0.04, title_space=0, endnote_space=0)\n",
    "\n",
    "for i, row in passes_in.iterrows():\n",
    "    value = row[\"xT\"]\n",
    "    line_width = (value/max_value * 10)\n",
    "    angle = np.arctan((row.y1-row.y0) / (row.x1-row.x0))*180/np.pi\n",
    "    pitch.arrows(row.x0, row.y0, row.x1, row.y1, alpha=0.6, width=line_width, zorder=2, color=\"blue\", ax=ax[\"pitch\"])\n",
    "    ax[\"pitch\"].text((row.x0+row.x1-8) / 2, (row.y0+row.y1-4) / 2, str(value)[:5], fontweight=\"bold\",  color=\"blue\", zorder=4, fontsize=20, rotation = int(angle))\n",
    "\n",
    "pitch.arrows(shot.x0, shot.y0, shot.x1, shot.y1, width=line_width, color=\"red\", ax=ax[\"pitch\"], zorder=3)\n",
    "pitch.lines(not_passes.x0, not_passes.y0, not_passes.x1, not_passes.y1, color=\"grey\", lw=1.5, ls=\"dotted\", ax=ax[\"pitch\"])\n",
    "\n",
    "fig.suptitle(\"Passes Leading to a Shot\", fontweight=\"bold\", fontsize=20);"
   ]
  },
  {
   "cell_type": "markdown",
   "metadata": {},
   "source": [
    "# Players with the highest action based xT"
   ]
  },
  {
   "cell_type": "code",
   "execution_count": null,
   "metadata": {},
   "outputs": [],
   "source": [
    "players_df = pd.read_json(\"data/wyscout/players.json\", encoding=\"unicode_escape\")\n",
    "players_df.rename(columns={\"wyId\" : \"playerId\"}, inplace=True)\n",
    "players_df[\"role\"] = players_df.apply(lambda x: x.role[\"name\"], axis=1)\n",
    "to_merge = players_df[[\"playerId\", \"shortName\", \"role\"]]\n",
    "to_merge"
   ]
  },
  {
   "cell_type": "code",
   "execution_count": null,
   "metadata": {},
   "outputs": [],
   "source": [
    "summary = passes[[\"playerId\", \"xT\"]].groupby(\"playerId\").sum().reset_index()\n",
    "summary = summary.merge(to_merge, on=\"playerId\", how=\"left\")\n",
    "summary"
   ]
  },
  {
   "cell_type": "code",
   "execution_count": null,
   "metadata": {},
   "outputs": [],
   "source": [
    "minutes_per_game_df = pd.read_json(\"data/wyscout/minutes_played_per_game_England.json\")\n",
    "minutes = minutes_per_game_df.groupby(\"playerId\")[[\"minutesPlayed\"]].sum().reset_index()\n",
    "summary = minutes.merge(summary, how=\"left\", on=\"playerId\")\n",
    "summary = summary.fillna(0)\n",
    "summary"
   ]
  },
  {
   "cell_type": "code",
   "execution_count": null,
   "metadata": {},
   "outputs": [],
   "source": [
    "summary_over_400_minutes = summary.loc[summary[\"minutesPlayed\"] > 400].copy()\n",
    "summary_over_400_minutes[\"xT_per_90\"] = summary_over_400_minutes[\"xT\"] * 90 / summary_over_400_minutes[\"minutesPlayed\"]\n",
    "summary_over_400_minutes "
   ]
  },
  {
   "cell_type": "code",
   "execution_count": null,
   "metadata": {},
   "outputs": [],
   "source": [
    "possesion_df = pd.read_json(\"data/wyscout/player_possesion_England.json\")\n",
    "summary_over_400_minutes = summary_over_400_minutes.merge(possesion_df, how=\"left\", on=\"playerId\")\n",
    "summary_over_400_minutes[\"xT_adjusted_per_90\"] = (summary_over_400_minutes[\"xT\"] / summary_over_400_minutes[\"possesion\"])  * 90 / summary_over_400_minutes[\"minutesPlayed\"]\n",
    "summary_over_400_minutes"
   ]
  },
  {
   "cell_type": "code",
   "execution_count": null,
   "metadata": {},
   "outputs": [],
   "source": [
    "summary_over_400_minutes[['shortName', 'xT_adjusted_per_90']].sort_values(by='xT_adjusted_per_90', ascending=False).head(5)"
   ]
  },
  {
   "cell_type": "markdown",
   "metadata": {},
   "source": [
    "# Challenge\n",
    "1. Do the same analysis but for the Indian Super League 2021/22 season."
   ]
  },
  {
   "cell_type": "markdown",
   "metadata": {},
   "source": [
    "## Install Stats Bomb API Python Package\n",
    "- Simplest way to get the data needed.\n",
    "- Indian Super Leage 2021/22 has a competition ID of 1238 and a season ID of 108."
   ]
  },
  {
   "cell_type": "code",
   "execution_count": null,
   "metadata": {},
   "outputs": [],
   "source": [
    "# !pip install statsbombpy"
   ]
  },
  {
   "cell_type": "code",
   "execution_count": null,
   "metadata": {},
   "outputs": [],
   "source": [
    "from statsbombpy import sb"
   ]
  },
  {
   "cell_type": "code",
   "execution_count": null,
   "metadata": {},
   "outputs": [],
   "source": [
    "events = sb.competition_events(country=\"India\", division=\"Indian Super league\", season=\"2021/2022\")"
   ]
  },
  {
   "cell_type": "code",
   "execution_count": null,
   "metadata": {},
   "outputs": [],
   "source": [
    "events_with_possesion = events[events[\"possession\"] != None].copy()\n",
    "events_with_possesion"
   ]
  },
  {
   "cell_type": "code",
   "execution_count": null,
   "metadata": {},
   "outputs": [],
   "source": [
    "cols = [\n",
    "    \"carry_end_location\",\n",
    "    \"location\",\n",
    "    \"match_id\",\n",
    "    \"pass_end_location\",\n",
    "    \"player\",\n",
    "    \"possession\",\n",
    "    \"possession_team\",\n",
    "    \"shot_end_location\",\n",
    "    \"shot_outcome\",\n",
    "    \"type\",\n",
    "    \"shot_statsbomb_xg\",\n",
    "    \"minute\",\n",
    "    \"second\"\n",
    "]\n",
    "\n",
    "event_types = [\"Pass\", \"Carry\", \"Shot\"]\n",
    "possession_chain_events = events_with_possesion[events_with_possesion[\"type\"].isin(event_types)][cols].copy()\n",
    "possession_chain_events"
   ]
  },
  {
   "cell_type": "code",
   "execution_count": null,
   "metadata": {},
   "outputs": [],
   "source": [
    "possession_chain_events[\"x0\"] = possession_chain_events[\"location\"].apply(lambda x: x[0] * 105/100)\n",
    "possession_chain_events[\"y0\"] = possession_chain_events[\"location\"].apply(lambda x: 100 - x[1] * (68 /100))\n",
    "possession_chain_events[\"c0\"] = possession_chain_events[\"location\"].apply(lambda x: 50 - x[1] * (68 /100))\n",
    "\n",
    "# Pass\n",
    "pass_end_locations = possession_chain_events[\"pass_end_location\"].dropna()\n",
    "possession_chain_events[\"x1_pass\"] = pass_end_locations.apply(lambda x: x[0] * 105/100)\n",
    "possession_chain_events[\"y1_pass\"] = pass_end_locations.apply(lambda x: 100 - x[1] * (68 /100))\n",
    "possession_chain_events[\"c1_pass\"] = pass_end_locations.apply(lambda x: 50 - x[1] * (68 /100))\n",
    "\n",
    "# Shots\n",
    "shot_end_locations = possession_chain_events[\"shot_end_location\"].dropna()\n",
    "possession_chain_events[\"x1_shot\"] = 105\n",
    "possession_chain_events[\"y1_shot\"] = 34\n",
    "possession_chain_events[\"c1_shot\"] = 0\n",
    "\n",
    "# Carry\n",
    "carry_end_locations = possession_chain_events[\"carry_end_location\"].dropna()\n",
    "possession_chain_events[\"x1_carry\"] = carry_end_locations.apply(lambda x: x[0] * 105/100)\n",
    "possession_chain_events[\"y1_carry\"] = carry_end_locations.apply(lambda x: 100 - x[1] * (68 /100))\n",
    "possession_chain_events[\"c1_carry\"] = carry_end_locations.apply(lambda x: 50 - x[1] * (68 /100))"
   ]
  },
  {
   "cell_type": "code",
   "execution_count": null,
   "metadata": {},
   "outputs": [],
   "source": [
    "possession_chain_events"
   ]
  },
  {
   "cell_type": "code",
   "execution_count": null,
   "metadata": {},
   "outputs": [],
   "source": [
    "possession_chain_events[\"x1\"] = possession_chain_events[\"x1_pass\"].combine_first(possession_chain_events[\"x1_shot\"]).combine_first(possession_chain_events[\"x1_carry\"])\n",
    "possession_chain_events[\"y1\"] = possession_chain_events[\"y1_pass\"].combine_first(possession_chain_events[\"y1_shot\"]).combine_first(possession_chain_events[\"y1_carry\"])\n",
    "possession_chain_events[\"c1\"] = possession_chain_events[\"c1_pass\"].combine_first(possession_chain_events[\"c1_shot\"]).combine_first(possession_chain_events[\"c1_carry\"])\n",
    "possession_chain_events"
   ]
  },
  {
   "cell_type": "code",
   "execution_count": null,
   "metadata": {},
   "outputs": [],
   "source": [
    "possession_chain_key_cols = possession_chain_events[[\"match_id\", \"minute\", \"second\", \"player\", \"possession\", \"possession_team\", \"type\", \"x0\", \"y0\", \"c0\", \"x1\", \"y1\", \"c1\", \"shot_statsbomb_xg\"]].copy()\n",
    "possession_chain_key_cols"
   ]
  },
  {
   "cell_type": "code",
   "execution_count": null,
   "metadata": {},
   "outputs": [],
   "source": [
    "possession_chain_key_cols.shot_statsbomb_xg.fillna(0, inplace=True)\n",
    "possession_chain_key_cols"
   ]
  },
  {
   "cell_type": "code",
   "execution_count": null,
   "metadata": {},
   "outputs": [],
   "source": [
    "possession_chain_key_cols = possession_chain_key_cols.rename(columns={\"shot_statsbomb_xg\" : \"xG\"})\n",
    "possession_chain_key_cols"
   ]
  },
  {
   "cell_type": "code",
   "execution_count": null,
   "metadata": {},
   "outputs": [],
   "source": [
    "shots = possession_chain_key_cols[possession_chain_key_cols.type == \"Shot\"][[\"match_id\", \"possession\", \"xG\"]].copy()\n",
    "shots"
   ]
  },
  {
   "cell_type": "code",
   "execution_count": null,
   "metadata": {},
   "outputs": [],
   "source": [
    "possession_chains = possession_chain_key_cols.copy()\n",
    "possession_chains[\"shot_end\"] = 0\n",
    "\n",
    "for row in shots.iterrows():    \n",
    "    match_id = row[1][\"match_id\"]\n",
    "    possession = row[1][\"possession\"]\n",
    "    xG = row[1][\"xG\"]\n",
    "\n",
    "    possession_chains.loc[(possession_chains.match_id == match_id) & (possession_chains.possession == possession), \"xG\"] = xG\n",
    "    possession_chains.loc[(possession_chains.match_id == match_id) & (possession_chains.possession == possession), \"shot_end\"] = 1\n",
    "\n",
    "possession_chains"
   ]
  },
  {
   "cell_type": "code",
   "execution_count": null,
   "metadata": {},
   "outputs": [],
   "source": [
    "df = possession_chains.copy()\n",
    "var = [\"x0\", \"x1\", \"c0\", \"c1\"]\n",
    "\n",
    "inputs = []\n",
    "inputs.extend(combinations_with_replacement(var, 1))\n",
    "inputs.extend(combinations_with_replacement(var, 2))\n",
    "inputs.extend(combinations_with_replacement(var, 3))\n",
    "\n",
    "for i in inputs:\n",
    "    if len(i) > 1:\n",
    "        column = \"\"\n",
    "        x = 1\n",
    "        for c in i:\n",
    "            column += c\n",
    "            x = x*df[c]\n",
    "        df[column] = x\n",
    "        var.append(column)\n",
    "\n",
    "df"
   ]
  },
  {
   "cell_type": "code",
   "execution_count": null,
   "metadata": {},
   "outputs": [],
   "source": [
    "passes = df.loc[df[\"type\"] == \"Pass\"].copy()\n",
    "\n",
    "X = passes[var].values\n",
    "y = passes[\"shot_end\"].values\n",
    "\n",
    "X_train, X_test, y_train, y_test = train_test_split(X, y, test_size=0.1, random_state=123, stratify=y)\n",
    "\n",
    "xgb_classifier = xgb.XGBClassifier(random_state=123)\n",
    "scores = cross_val_score(estimator=xgb_classifier, X=X_train, y=y_train, cv=10, n_jobs=-1)\n",
    "xgb_classifier.fit(X_train, y_train)\n",
    "\n",
    "print(np.mean(scores), np.std(scores))\n",
    "print(xgb_classifier.score(X_train, y_train))"
   ]
  },
  {
   "cell_type": "code",
   "execution_count": null,
   "metadata": {},
   "outputs": [],
   "source": [
    "y_pred_proba = xgb_classifier.predict_proba(X_test)\n",
    "print(xgb_classifier.score(X_test, y_test))\n",
    "y_pred_proba = xgb_classifier.predict_proba(X)[::,1]\n",
    "\n",
    "passes[\"shot_prob\"] = y_pred_proba\n",
    "shot_ended  = passes.loc[passes[\"shot_end\"] == 1]\n",
    "\n",
    "X2 = shot_ended[var].values\n",
    "y2 = shot_ended[\"xG\"].values\n",
    "\n",
    "lr = LinearRegression()\n",
    "lr.fit(X2, y2)\n",
    "y_pred = lr.predict(X)\n",
    "\n",
    "passes[\"xG_pred\"] = y_pred\n",
    "passes[\"xT\"] = passes[\"xG_pred\"] * passes[\"shot_prob\"]\n",
    "passes[[\"xG_pred\", \"shot_prob\", \"xT\"]].head(100)"
   ]
  },
  {
   "cell_type": "code",
   "execution_count": null,
   "metadata": {},
   "outputs": [],
   "source": [
    "players_Total_xT = passes[[\"player\", \"xT\"]].groupby(\"player\").sum(\"xT\").reset_index()\n",
    "players_Total_xT.sort_values(\"xT\", ascending=False)"
   ]
  },
  {
   "cell_type": "code",
   "execution_count": null,
   "metadata": {},
   "outputs": [],
   "source": [
    "starting_eleven = events[events[\"type\"] == \"Starting XI\"].dropna(axis=1, how='all')\n",
    "starting_eleven[\"lineup\"] = starting_eleven[\"tactics\"].apply(lambda x: x[\"lineup\"])\n",
    "starting_eleven"
   ]
  },
  {
   "cell_type": "code",
   "execution_count": null,
   "metadata": {},
   "outputs": [],
   "source": [
    "player_dicts = []\n",
    "\n",
    "for row in starting_eleven[[\"match_id\", \"lineup\"]].iterrows():\n",
    "    match_id = row[1][\"match_id\"]\n",
    "    for player in row[1][\"lineup\"]:\n",
    "        player_dict = {}\n",
    "        id = player[\"player\"][\"id\"]\n",
    "        name = player[\"player\"][\"name\"]\n",
    "\n",
    "        player_dict[\"match_id\"] = match_id\n",
    "        player_dict[\"player_id\"] = id\n",
    "        player_dict[\"player\"] = name\n",
    "        player_dict[\"player_in_min\"] = 0 \n",
    "        player_dict[\"player_out_min\"] = -1\n",
    "\n",
    "        player_dicts.append(player_dict)"
   ]
  },
  {
   "cell_type": "code",
   "execution_count": null,
   "metadata": {},
   "outputs": [],
   "source": [
    "players_df = pd.DataFrame(player_dicts, columns=[\"match_id\", \"player_id\", \"player\", \"player_in_min\", \"player_out_min\"]).copy()\n",
    "players_df"
   ]
  },
  {
   "cell_type": "code",
   "execution_count": null,
   "metadata": {},
   "outputs": [],
   "source": [
    "player_on_df = events[events[\"type\"] == \"Player On\"][[\"match_id\", \"player_id\", \"player\", \"minute\", \"second\"]].copy()\n",
    "event_index = player_on_df.groupby([\"match_id\", \"player_id\", \"player\"]).cumcount()\n",
    "player_on_df[\"total_second_on\"] =  (player_on_df[\"minute\"] * 60 + player_on_df[\"second\"])\n",
    "player_on_df[\"event_index\"] = event_index\n",
    "player_on_df"
   ]
  },
  {
   "cell_type": "code",
   "execution_count": null,
   "metadata": {},
   "outputs": [],
   "source": [
    "player_on_df[player_on_df[\"event_index\"] != 0]"
   ]
  },
  {
   "cell_type": "code",
   "execution_count": null,
   "metadata": {},
   "outputs": [],
   "source": [
    "player_on_df[(player_on_df.match_id == 3817891) & (player_on_df.player_id == 166561)]"
   ]
  },
  {
   "cell_type": "code",
   "execution_count": null,
   "metadata": {},
   "outputs": [],
   "source": [
    "player_off_df = events[events[\"type\"] == \"Player Off\"][[\"match_id\", \"player_id\", \"player\", \"minute\", \"second\", \"player_off_permanent\"]]\n",
    "event_index = player_off_df.groupby([\"match_id\", \"player_id\", \"player\"]).cumcount()\n",
    "player_off_df[\"total_second_off\"] =  (player_off_df[\"minute\"] * 60 + player_off_df[\"second\"])\n",
    "player_off_df[\"event_index\"] = event_index\n",
    "player_off_df"
   ]
  },
  {
   "cell_type": "code",
   "execution_count": null,
   "metadata": {},
   "outputs": [],
   "source": [
    "player_off_df[(player_off_df.match_id == 3817891) & (player_off_df.player_id == 166561)]"
   ]
  },
  {
   "cell_type": "code",
   "execution_count": null,
   "metadata": {},
   "outputs": [],
   "source": [
    "merged = player_off_df.merge(player_on_df, on=[\"match_id\", \"player_id\", \"player\", \"event_index\"])[[\"match_id\", \"player_id\", \"player\", \"total_second_off\", \"total_second_on\"]]\n",
    "merged[\"total_time_off_pitch\"] = merged[\"total_second_on\"] - merged[\"total_second_off\"]\n",
    "merged"
   ]
  },
  {
   "cell_type": "code",
   "execution_count": null,
   "metadata": {},
   "outputs": [],
   "source": [
    "merged[(merged.match_id == 3817891) & (merged.player_id == 166561)]"
   ]
  },
  {
   "cell_type": "code",
   "execution_count": null,
   "metadata": {},
   "outputs": [],
   "source": [
    "substitutions_df = events[events[\"type\"] == \"Substitution\"][[\"match_id\", \"player_id\", \"player\", \"substitution_replacement\", \"minute\", \"second\"]]\n",
    "substitutions_df[\"time_of_sub\"] = (substitutions_df[\"minute\"] * 60) + substitutions_df[\"second\"]\n",
    "substitutions_df"
   ]
  },
  {
   "cell_type": "code",
   "execution_count": null,
   "metadata": {},
   "outputs": [],
   "source": [
    "substitutions_df[(substitutions_df.match_id == 3817891) & (substitutions_df.player_id == 166561)]"
   ]
  },
  {
   "cell_type": "code",
   "execution_count": null,
   "metadata": {},
   "outputs": [],
   "source": [
    "subs_with_time_off_and_on_df = merged.merge(substitutions_df, on=[\"match_id\", \"player_id\", \"player\"])"
   ]
  },
  {
   "cell_type": "code",
   "execution_count": null,
   "metadata": {},
   "outputs": [],
   "source": [
    "subs_with_time_off_and_on_df"
   ]
  },
  {
   "cell_type": "code",
   "execution_count": null,
   "metadata": {},
   "outputs": [],
   "source": []
  }
 ],
 "metadata": {
  "kernelspec": {
   "display_name": ".venv",
   "language": "python",
   "name": "python3"
  },
  "language_info": {
   "codemirror_mode": {
    "name": "ipython",
    "version": 3
   },
   "file_extension": ".py",
   "mimetype": "text/x-python",
   "name": "python",
   "nbconvert_exporter": "python",
   "pygments_lexer": "ipython3",
   "version": "3.11.5"
  }
 },
 "nbformat": 4,
 "nbformat_minor": 2
}
